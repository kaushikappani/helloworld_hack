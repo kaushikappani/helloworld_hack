{
 "cells": [
  {
   "cell_type": "code",
   "execution_count": null,
   "metadata": {},
   "outputs": [],
   "source": [
    "import pandas as pd\n",
    "import numpy as np\n",
    "import matplotlib.pyplot as plt\n",
    "import random"
   ]
  },
  {
   "cell_type": "code",
   "execution_count": null,
   "metadata": {},
   "outputs": [],
   "source": [
    "from sklearn.linear_model import LinearRegression\n",
    "from sklearn.ensemble import RandomForestRegressor\n",
    "from sklearn.model_selection import GridSearchCV,train_test_split\n",
    "from sklearn.metrics import mean_absolute_error"
   ]
  },
  {
   "cell_type": "code",
   "execution_count": null,
   "metadata": {},
   "outputs": [],
   "source": [
    "admissions = pd.read_csv(\"Admission_Predict_Ver1.1.csv\")\n",
    "admissions = admissions.drop('Serial No.',axis = 1)\n",
    "admissions"
   ]
  },
  {
   "cell_type": "code",
   "execution_count": null,
   "metadata": {},
   "outputs": [],
   "source": [
    "admissions['sports']=0\n",
    "admissions['certifications']=0"
   ]
  },
  {
   "cell_type": "code",
   "execution_count": null,
   "metadata": {},
   "outputs": [],
   "source": [
    "for ri, rd in admissions.iterrows():\n",
    "\n",
    "  if (admissions.iloc[ri,7]>0 and admissions.iloc[ri,7]<0.25):\n",
    "    admissions.iloc[ri,8]=1\n",
    "    admissions.iloc[ri,9]=1\n",
    "  elif (admissions.iloc[ri,7]>0.25 and admissions.iloc[ri,7]<0.50):\n",
    "    admissions.iloc[ri,8]=2\n",
    "    admissions.iloc[ri,9]=2\n",
    "  elif (admissions.iloc[ri,7]>0.50 and admissions.iloc[ri,7]<0.75):\n",
    "    admissions.iloc[ri,8]=3\n",
    "    admissions.iloc[ri,9]=3\n",
    "  elif (admissions.iloc[ri,7]>0.75 and admissions.iloc[ri,7]<1.00):\n",
    "    admissions.iloc[ri,8]=4\n",
    "    admissions.iloc[ri,9]=4\n",
    "  else:\n",
    "    admissions.iloc[ri,8]=0\n",
    "    admissions.iloc[ri,9]=0"
   ]
  },
  {
   "cell_type": "code",
   "execution_count": null,
   "metadata": {},
   "outputs": [],
   "source": [
    "X = admissions.drop('Chance of Admit ',axis = 1)\n",
    "y = admissions['Chance of Admit ']\n",
    "\n",
    "X_train,X_test,y_train,y_test = train_test_split(X,y,test_size = .01,random_state = 123)"
   ]
  },
  {
   "cell_type": "code",
   "execution_count": null,
   "metadata": {},
   "outputs": [],
   "source": [
    "regressor = RandomForestRegressor(n_estimators = 150,random_state = 42)\n",
    "regressor.fit(X_train,y_train)"
   ]
  },
  {
   "cell_type": "code",
   "execution_count": null,
   "metadata": {},
   "outputs": [],
   "source": [
    "import pickle\n",
    "filename=\"finalized_model.sav\"\n",
    "pickle.dump(regressor,open(filename,'wb'))"
   ]
  },
  {
   "cell_type": "code",
   "execution_count": null,
   "metadata": {},
   "outputs": [],
   "source": [
    "gre=320\n",
    "toefl=115\n",
    "univers=1\n",
    "SOP=3\n",
    "LOR=4\n",
    "CGPA=9\n",
    "research=5\n",
    "sports=10\n",
    "certificate=10\n",
    "d={\"GRE Score\":gre,\"TOEFL Score\":toefl,'University Rating':univers,\"SOP\":SOP,\"LOR\":LOR,\"CGPA\":CGPA,\"Research\":research,'sports':sports,'certifications':certificate}\n",
    "x_test=pd.DataFrame(d,index=[0])"
   ]
  },
  {
   "cell_type": "code",
   "execution_count": null,
   "metadata": {},
   "outputs": [],
   "source": [
    "loaded_model=pickle.load(open('finalized_model.sav','rb'))\n",
    "result=loaded_model.predict(x_test)"
   ]
  },
  {
   "cell_type": "code",
   "execution_count": null,
   "metadata": {},
   "outputs": [],
   "source": [
    "print(result*100)"
   ]
  }
 ],
 "metadata": {
  "kernelspec": {
   "display_name": "Python 3.8.3 64-bit",
   "language": "python",
   "name": "python38364bit1aac6c25195f45408ce3122223c75777"
  },
  "language_info": {
   "codemirror_mode": {
    "name": "ipython",
    "version": 3
   },
   "file_extension": ".py",
   "mimetype": "text/x-python",
   "name": "python",
   "nbconvert_exporter": "python",
   "pygments_lexer": "ipython3",
   "version": "3.8.3"
  }
 },
 "nbformat": 4,
 "nbformat_minor": 4
}
